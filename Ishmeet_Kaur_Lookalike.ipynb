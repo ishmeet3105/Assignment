{
  "metadata": {
    "kernelspec": {
      "name": "python",
      "display_name": "Python (Pyodide)",
      "language": "python"
    },
    "language_info": {
      "codemirror_mode": {
        "name": "python",
        "version": 3
      },
      "file_extension": ".py",
      "mimetype": "text/x-python",
      "name": "python",
      "nbconvert_exporter": "python",
      "pygments_lexer": "ipython3",
      "version": "3.8"
    }
  },
  "nbformat_minor": 5,
  "nbformat": 4,
  "cells": [
    {
      "id": "aa37dc62-87eb-4865-a4f8-d30a63fdd99c",
      "cell_type": "code",
      "source": "import pandas as pd\n\ncustomers_df = pd.read_csv('Customers.csv')\nproducts_df = pd.read_csv('Products.csv')\ntransactions_df = pd.read_csv('Transactions.csv')\n\ncustomers_df.head(), products_df.head(), transactions_df.head()\n",
      "metadata": {
        "trusted": true
      },
      "outputs": [
        {
          "execution_count": 3,
          "output_type": "execute_result",
          "data": {
            "text/plain": "(  CustomerID        CustomerName         Region  SignupDate\n 0      C0001    Lawrence Carroll  South America  2022-07-10\n 1      C0002      Elizabeth Lutz           Asia  2022-02-13\n 2      C0003      Michael Rivera  South America  2024-03-07\n 3      C0004  Kathleen Rodriguez  South America  2022-10-09\n 4      C0005         Laura Weber           Asia  2022-08-15,\n   ProductID              ProductName     Category   Price\n 0      P001     ActiveWear Biography        Books  169.30\n 1      P002    ActiveWear Smartwatch  Electronics  346.30\n 2      P003  ComfortLiving Biography        Books   44.12\n 3      P004            BookWorld Rug   Home Decor   95.69\n 4      P005          TechPro T-Shirt     Clothing  429.31,\n   TransactionID CustomerID ProductID      TransactionDate  Quantity  \\\n 0        T00001      C0199      P067  2024-08-25 12:38:23         1   \n 1        T00112      C0146      P067  2024-05-27 22:23:54         1   \n 2        T00166      C0127      P067  2024-04-25 07:38:55         1   \n 3        T00272      C0087      P067  2024-03-26 22:55:37         2   \n 4        T00363      C0070      P067  2024-03-21 15:10:10         3   \n \n    TotalValue   Price  \n 0      300.68  300.68  \n 1      300.68  300.68  \n 2      300.68  300.68  \n 3      601.36  300.68  \n 4      902.04  300.68  )"
          },
          "metadata": {}
        }
      ],
      "execution_count": 3
    },
    {
      "id": "73ccc661-5c6f-4403-96b1-c7ee8e97122f",
      "cell_type": "code",
      "source": "# Preprocessing the data\n\n# Converting to their relevent formats\ncustomers_df['SignupDate'] = pd.to_datetime(customers_df['SignupDate'])\ntransactions_df['TransactionDate'] = pd.to_datetime(transactions_df['TransactionDate'])\n\n#adding customer details\ntransactions_full_df = transactions_df.merge(customers_df, on='CustomerID').merge(products_df, on='ProductID')\ntransactions_full_df.head()",
      "metadata": {
        "trusted": true
      },
      "outputs": [
        {
          "execution_count": 5,
          "output_type": "execute_result",
          "data": {
            "text/plain": "  TransactionID CustomerID ProductID     TransactionDate  Quantity  \\\n0        T00001      C0199      P067 2024-08-25 12:38:23         1   \n1        T00112      C0146      P067 2024-05-27 22:23:54         1   \n2        T00166      C0127      P067 2024-04-25 07:38:55         1   \n3        T00272      C0087      P067 2024-03-26 22:55:37         2   \n4        T00363      C0070      P067 2024-03-21 15:10:10         3   \n\n   TotalValue  Price_x     CustomerName         Region SignupDate  \\\n0      300.68   300.68   Andrea Jenkins         Europe 2022-12-03   \n1      300.68   300.68  Brittany Harvey           Asia 2024-09-04   \n2      300.68   300.68  Kathryn Stevens         Europe 2024-04-04   \n3      601.36   300.68  Travis Campbell  South America 2024-04-11   \n4      902.04   300.68    Timothy Perez         Europe 2022-03-15   \n\n                       ProductName     Category  Price_y  \n0  ComfortLiving Bluetooth Speaker  Electronics   300.68  \n1  ComfortLiving Bluetooth Speaker  Electronics   300.68  \n2  ComfortLiving Bluetooth Speaker  Electronics   300.68  \n3  ComfortLiving Bluetooth Speaker  Electronics   300.68  \n4  ComfortLiving Bluetooth Speaker  Electronics   300.68  ",
            "text/html": "<div>\n<style scoped>\n    .dataframe tbody tr th:only-of-type {\n        vertical-align: middle;\n    }\n\n    .dataframe tbody tr th {\n        vertical-align: top;\n    }\n\n    .dataframe thead th {\n        text-align: right;\n    }\n</style>\n<table border=\"1\" class=\"dataframe\">\n  <thead>\n    <tr style=\"text-align: right;\">\n      <th></th>\n      <th>TransactionID</th>\n      <th>CustomerID</th>\n      <th>ProductID</th>\n      <th>TransactionDate</th>\n      <th>Quantity</th>\n      <th>TotalValue</th>\n      <th>Price_x</th>\n      <th>CustomerName</th>\n      <th>Region</th>\n      <th>SignupDate</th>\n      <th>ProductName</th>\n      <th>Category</th>\n      <th>Price_y</th>\n    </tr>\n  </thead>\n  <tbody>\n    <tr>\n      <th>0</th>\n      <td>T00001</td>\n      <td>C0199</td>\n      <td>P067</td>\n      <td>2024-08-25 12:38:23</td>\n      <td>1</td>\n      <td>300.68</td>\n      <td>300.68</td>\n      <td>Andrea Jenkins</td>\n      <td>Europe</td>\n      <td>2022-12-03</td>\n      <td>ComfortLiving Bluetooth Speaker</td>\n      <td>Electronics</td>\n      <td>300.68</td>\n    </tr>\n    <tr>\n      <th>1</th>\n      <td>T00112</td>\n      <td>C0146</td>\n      <td>P067</td>\n      <td>2024-05-27 22:23:54</td>\n      <td>1</td>\n      <td>300.68</td>\n      <td>300.68</td>\n      <td>Brittany Harvey</td>\n      <td>Asia</td>\n      <td>2024-09-04</td>\n      <td>ComfortLiving Bluetooth Speaker</td>\n      <td>Electronics</td>\n      <td>300.68</td>\n    </tr>\n    <tr>\n      <th>2</th>\n      <td>T00166</td>\n      <td>C0127</td>\n      <td>P067</td>\n      <td>2024-04-25 07:38:55</td>\n      <td>1</td>\n      <td>300.68</td>\n      <td>300.68</td>\n      <td>Kathryn Stevens</td>\n      <td>Europe</td>\n      <td>2024-04-04</td>\n      <td>ComfortLiving Bluetooth Speaker</td>\n      <td>Electronics</td>\n      <td>300.68</td>\n    </tr>\n    <tr>\n      <th>3</th>\n      <td>T00272</td>\n      <td>C0087</td>\n      <td>P067</td>\n      <td>2024-03-26 22:55:37</td>\n      <td>2</td>\n      <td>601.36</td>\n      <td>300.68</td>\n      <td>Travis Campbell</td>\n      <td>South America</td>\n      <td>2024-04-11</td>\n      <td>ComfortLiving Bluetooth Speaker</td>\n      <td>Electronics</td>\n      <td>300.68</td>\n    </tr>\n    <tr>\n      <th>4</th>\n      <td>T00363</td>\n      <td>C0070</td>\n      <td>P067</td>\n      <td>2024-03-21 15:10:10</td>\n      <td>3</td>\n      <td>902.04</td>\n      <td>300.68</td>\n      <td>Timothy Perez</td>\n      <td>Europe</td>\n      <td>2022-03-15</td>\n      <td>ComfortLiving Bluetooth Speaker</td>\n      <td>Electronics</td>\n      <td>300.68</td>\n    </tr>\n  </tbody>\n</table>\n</div>"
          },
          "metadata": {}
        }
      ],
      "execution_count": 5
    },
    {
      "id": "5a0dc26f-5e20-4382-a18e-adcfc7281321",
      "cell_type": "code",
      "source": "target_customers = customers_df[customers_df['CustomerID'].isin([f\"C{str(i).zfill(4)}\" for i in range(1, 21)])]\n\ncustomer_summary = transactions_full_df.groupby('CustomerID').agg({\n    'TotalValue': 'sum',\n    'ProductID': lambda x: list(x), \n    'Category': lambda x: list(x)   \n}).rename(columns={'TotalValue': 'TotalSpent'})\n\n# Merge summarized data \ncustomer_profile_df = target_customers.merge(customer_summary, on='CustomerID', how='left')\n\ncustomer_profile_df.head()  \n",
      "metadata": {
        "trusted": true
      },
      "outputs": [
        {
          "execution_count": 6,
          "output_type": "execute_result",
          "data": {
            "text/plain": "  CustomerID        CustomerName         Region SignupDate  TotalSpent  \\\n0      C0001    Lawrence Carroll  South America 2022-07-10     3354.52   \n1      C0002      Elizabeth Lutz           Asia 2022-02-13     1862.74   \n2      C0003      Michael Rivera  South America 2024-03-07     2725.38   \n3      C0004  Kathleen Rodriguez  South America 2022-10-09     5354.88   \n4      C0005         Laura Weber           Asia 2022-08-15     2034.24   \n\n                                          ProductID  \\\n0                    [P054, P022, P096, P083, P029]   \n1                          [P095, P004, P019, P071]   \n2                          [P025, P006, P035, P002]   \n3  [P049, P053, P038, P025, P097, P024, P008, P077]   \n4                                [P025, P039, P012]   \n\n                                            Category  \n0  [Books, Home Decor, Electronics, Electronics, ...  \n1       [Home Decor, Home Decor, Clothing, Clothing]  \n2    [Home Decor, Home Decor, Clothing, Electronics]  \n3  [Books, Home Decor, Home Decor, Home Decor, Bo...  \n4             [Home Decor, Electronics, Electronics]  ",
            "text/html": "<div>\n<style scoped>\n    .dataframe tbody tr th:only-of-type {\n        vertical-align: middle;\n    }\n\n    .dataframe tbody tr th {\n        vertical-align: top;\n    }\n\n    .dataframe thead th {\n        text-align: right;\n    }\n</style>\n<table border=\"1\" class=\"dataframe\">\n  <thead>\n    <tr style=\"text-align: right;\">\n      <th></th>\n      <th>CustomerID</th>\n      <th>CustomerName</th>\n      <th>Region</th>\n      <th>SignupDate</th>\n      <th>TotalSpent</th>\n      <th>ProductID</th>\n      <th>Category</th>\n    </tr>\n  </thead>\n  <tbody>\n    <tr>\n      <th>0</th>\n      <td>C0001</td>\n      <td>Lawrence Carroll</td>\n      <td>South America</td>\n      <td>2022-07-10</td>\n      <td>3354.52</td>\n      <td>[P054, P022, P096, P083, P029]</td>\n      <td>[Books, Home Decor, Electronics, Electronics, ...</td>\n    </tr>\n    <tr>\n      <th>1</th>\n      <td>C0002</td>\n      <td>Elizabeth Lutz</td>\n      <td>Asia</td>\n      <td>2022-02-13</td>\n      <td>1862.74</td>\n      <td>[P095, P004, P019, P071]</td>\n      <td>[Home Decor, Home Decor, Clothing, Clothing]</td>\n    </tr>\n    <tr>\n      <th>2</th>\n      <td>C0003</td>\n      <td>Michael Rivera</td>\n      <td>South America</td>\n      <td>2024-03-07</td>\n      <td>2725.38</td>\n      <td>[P025, P006, P035, P002]</td>\n      <td>[Home Decor, Home Decor, Clothing, Electronics]</td>\n    </tr>\n    <tr>\n      <th>3</th>\n      <td>C0004</td>\n      <td>Kathleen Rodriguez</td>\n      <td>South America</td>\n      <td>2022-10-09</td>\n      <td>5354.88</td>\n      <td>[P049, P053, P038, P025, P097, P024, P008, P077]</td>\n      <td>[Books, Home Decor, Home Decor, Home Decor, Bo...</td>\n    </tr>\n    <tr>\n      <th>4</th>\n      <td>C0005</td>\n      <td>Laura Weber</td>\n      <td>Asia</td>\n      <td>2022-08-15</td>\n      <td>2034.24</td>\n      <td>[P025, P039, P012]</td>\n      <td>[Home Decor, Electronics, Electronics]</td>\n    </tr>\n  </tbody>\n</table>\n</div>"
          },
          "metadata": {}
        }
      ],
      "execution_count": 6
    },
    {
      "id": "c71d8881-e328-46c2-949d-9e17c2dd52e5",
      "cell_type": "code",
      "source": "# Preprocessing the data\n\n# Convert necessary columns to appropriate type\ncustomers_df['SignupDate'] = pd.to_datetime(customers_df['SignupDate'])\ntransactions_df['TransactionDate'] = pd.to_datetime(transactions_df['TransactionDate'])\n\n# Merge datasets\ntransactions_full_df = transactions_df.merge(customers_df, on='CustomerID').merge(products_df, on='ProductID')\n\n# taking 20 customers \ntarget_customers = customers_df[customers_df['CustomerID'].isin([f\"C{str(i).zfill(4)}\" for i in range(1, 21)])]\n\n\ncustomer_summary = transactions_full_df.groupby('CustomerID').agg({\n    'TotalValue': 'sum',\n    'ProductID': lambda x: list(x), \n    'Category': lambda x: list(x)  \n}).rename(columns={'TotalValue': 'TotalSpent'})\n\n# Merge summary\ncustomer_profile_df = target_customers.merge(customer_summary, on='CustomerID', how='left')\n\ncustomer_profile_df.head() \n",
      "metadata": {
        "trusted": true
      },
      "outputs": [
        {
          "execution_count": 7,
          "output_type": "execute_result",
          "data": {
            "text/plain": "  CustomerID        CustomerName         Region SignupDate  TotalSpent  \\\n0      C0001    Lawrence Carroll  South America 2022-07-10     3354.52   \n1      C0002      Elizabeth Lutz           Asia 2022-02-13     1862.74   \n2      C0003      Michael Rivera  South America 2024-03-07     2725.38   \n3      C0004  Kathleen Rodriguez  South America 2022-10-09     5354.88   \n4      C0005         Laura Weber           Asia 2022-08-15     2034.24   \n\n                                          ProductID  \\\n0                    [P054, P022, P096, P083, P029]   \n1                          [P095, P004, P019, P071]   \n2                          [P025, P006, P035, P002]   \n3  [P049, P053, P038, P025, P097, P024, P008, P077]   \n4                                [P025, P039, P012]   \n\n                                            Category  \n0  [Books, Home Decor, Electronics, Electronics, ...  \n1       [Home Decor, Home Decor, Clothing, Clothing]  \n2    [Home Decor, Home Decor, Clothing, Electronics]  \n3  [Books, Home Decor, Home Decor, Home Decor, Bo...  \n4             [Home Decor, Electronics, Electronics]  ",
            "text/html": "<div>\n<style scoped>\n    .dataframe tbody tr th:only-of-type {\n        vertical-align: middle;\n    }\n\n    .dataframe tbody tr th {\n        vertical-align: top;\n    }\n\n    .dataframe thead th {\n        text-align: right;\n    }\n</style>\n<table border=\"1\" class=\"dataframe\">\n  <thead>\n    <tr style=\"text-align: right;\">\n      <th></th>\n      <th>CustomerID</th>\n      <th>CustomerName</th>\n      <th>Region</th>\n      <th>SignupDate</th>\n      <th>TotalSpent</th>\n      <th>ProductID</th>\n      <th>Category</th>\n    </tr>\n  </thead>\n  <tbody>\n    <tr>\n      <th>0</th>\n      <td>C0001</td>\n      <td>Lawrence Carroll</td>\n      <td>South America</td>\n      <td>2022-07-10</td>\n      <td>3354.52</td>\n      <td>[P054, P022, P096, P083, P029]</td>\n      <td>[Books, Home Decor, Electronics, Electronics, ...</td>\n    </tr>\n    <tr>\n      <th>1</th>\n      <td>C0002</td>\n      <td>Elizabeth Lutz</td>\n      <td>Asia</td>\n      <td>2022-02-13</td>\n      <td>1862.74</td>\n      <td>[P095, P004, P019, P071]</td>\n      <td>[Home Decor, Home Decor, Clothing, Clothing]</td>\n    </tr>\n    <tr>\n      <th>2</th>\n      <td>C0003</td>\n      <td>Michael Rivera</td>\n      <td>South America</td>\n      <td>2024-03-07</td>\n      <td>2725.38</td>\n      <td>[P025, P006, P035, P002]</td>\n      <td>[Home Decor, Home Decor, Clothing, Electronics]</td>\n    </tr>\n    <tr>\n      <th>3</th>\n      <td>C0004</td>\n      <td>Kathleen Rodriguez</td>\n      <td>South America</td>\n      <td>2022-10-09</td>\n      <td>5354.88</td>\n      <td>[P049, P053, P038, P025, P097, P024, P008, P077]</td>\n      <td>[Books, Home Decor, Home Decor, Home Decor, Bo...</td>\n    </tr>\n    <tr>\n      <th>4</th>\n      <td>C0005</td>\n      <td>Laura Weber</td>\n      <td>Asia</td>\n      <td>2022-08-15</td>\n      <td>2034.24</td>\n      <td>[P025, P039, P012]</td>\n      <td>[Home Decor, Electronics, Electronics]</td>\n    </tr>\n  </tbody>\n</table>\n</div>"
          },
          "metadata": {}
        }
      ],
      "execution_count": 7
    },
    {
      "id": "0e4a9125-12a6-4b42-a470-5353453c9ecc",
      "cell_type": "code",
      "source": "from sklearn.metrics.pairwise import cosine_similarity\nfrom sklearn.feature_extraction.text import CountVectorizer\nfrom sklearn.preprocessing import MinMaxScaler\nimport numpy as np\n\n# Helper functions \ndef compute_categorical_similarity(cat_list_1, cat_list_2):\n  \n    vectorizer = CountVectorizer()\n    combined_categories = [' '.join(cat_list_1), ' '.join(cat_list_2)]\n    category_matrix = vectorizer.fit_transform(combined_categories)\n    similarity = cosine_similarity(category_matrix)[0, 1]\n    return similarity\n\ndef compute_similarity(customer1, customer2):\n    \n    # Categorical similarity \n    cat_similarity = compute_categorical_similarity(customer1['Category'], customer2['Category'])\n    \n    # Numerical similarity\n    spent_similarity = 1 - abs(customer1['TotalSpent'] - customer2['TotalSpent']) / max(\n        customer1['TotalSpent'], customer2['TotalSpent']\n    )\n    \n    # Weighted average \n    overall_similarity = 0.7 * cat_similarity + 0.3 * spent_similarity\n    return overall_similarity\n\n# for the first 20 customers\nlookalike_map = {}\ntarget_customer_ids = target_customers['CustomerID'].tolist()\n\nfor customer_id in target_customer_ids:\n    customer_data = customer_profile_df[customer_profile_df['CustomerID'] == customer_id].iloc[0]\n    similarities = []\n    \n    for other_customer_id in target_customer_ids:\n        if customer_id != other_customer_id:\n            other_customer_data = customer_profile_df[customer_profile_df['CustomerID'] == other_customer_id].iloc[0]\n            similarity_score = compute_similarity(customer_data, other_customer_data)\n            similarities.append((other_customer_id, similarity_score))\n    \n    # Sort by similarity score and take top 3\n    top_similar_customers = sorted(similarities, key=lambda x: x[1], reverse=True)[:3]\n    lookalike_map[customer_id] = top_similar_customers\n\n# Create the Lookalike.csv data\nlookalike_df = pd.DataFrame.from_dict({\n    'CustomerID': list(lookalike_map.keys()),\n    'Lookalikes': [str(v) for v in lookalike_map.values()]\n})\n\n# Save to CSV\noutput_path = 'Ishmeet_Kaur_Lookalike.csv'\nlookalike_df.to_csv(output_path, index=False)\n\noutput_path  \n",
      "metadata": {
        "trusted": true
      },
      "outputs": [
        {
          "execution_count": 9,
          "output_type": "execute_result",
          "data": {
            "text/plain": "'Ishmeet_Kaur_Lookalike.csv'"
          },
          "metadata": {}
        }
      ],
      "execution_count": 9
    },
    {
      "id": "bcf075c0-1a02-405f-9858-3613646a6a65",
      "cell_type": "code",
      "source": "%pip install seaborn",
      "metadata": {
        "trusted": true
      },
      "outputs": [],
      "execution_count": null
    },
    {
      "id": "2b112e36-7273-4ca4-ae9a-8d9192ef33ab",
      "cell_type": "code",
      "source": "\n",
      "metadata": {
        "trusted": true
      },
      "outputs": [],
      "execution_count": null
    },
    {
      "id": "63bdc829-3c67-4d47-90c2-a88962d89f4f",
      "cell_type": "code",
      "source": "",
      "metadata": {
        "trusted": true
      },
      "outputs": [],
      "execution_count": null
    },
    {
      "id": "05e66645-c28a-470a-ae34-a68d16eb7795",
      "cell_type": "code",
      "source": "",
      "metadata": {
        "trusted": true
      },
      "outputs": [],
      "execution_count": null
    },
    {
      "id": "13261530-fc2b-4759-b65f-6cbc59a3b16f",
      "cell_type": "code",
      "source": "",
      "metadata": {
        "trusted": true
      },
      "outputs": [],
      "execution_count": null
    },
    {
      "id": "3918e057-49cc-4b41-abac-066e31354253",
      "cell_type": "code",
      "source": "",
      "metadata": {
        "trusted": true
      },
      "outputs": [],
      "execution_count": null
    },
    {
      "id": "5ac14bf5-6025-4466-b4b8-85ab747dcd3f",
      "cell_type": "code",
      "source": "",
      "metadata": {
        "trusted": true
      },
      "outputs": [],
      "execution_count": null
    }
  ]
}